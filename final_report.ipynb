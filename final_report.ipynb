{
 "cells": [
  {
   "cell_type": "markdown",
   "id": "4db06f9f-f4eb-4b15-80f8-d19811d259c9",
   "metadata": {},
   "source": [
    "# Prediction of Coronary Artery Heart Disease Using Key Clinical Indicators -\n",
    "# A K-Nearest Neighbors Approach\n"
   ]
  },
  {
   "cell_type": "markdown",
   "id": "460c0583-a226-4abc-aa83-9ca0f7b693ae",
   "metadata": {},
   "source": [
    "## Introduction\n",
    "Heart diseases are serious cardiovascular conditions that can be fatal. These diseases, notably, coronary artery disease (CAD), represent a primary global health challenge, often leading to severe morbidity and mortality. CAD arises from the progressive accumulation of atherosclerotic plaques within coronary vessels, ultimately impairing cardiac function. The purpose of this project is to predict the presence of heart disease in patients based on different medical attributes using a K-Nearest Neighbors (KNN) prediction method. As the capability to foresee the onset of such conditions using predictive analytics can significantly improve clinical outcomes by enabling preemptive medical intervention. \n",
    "\n",
    "This method will allow us to analyze data sets collected from medical research, so we can categorize data points into groups, compared to other similar data points. The data set that we will be using is based on medical research across several institutions including Cleveland Clinic, Hungarian Institute of Cardiology, University Hospital in Zurich, and VA Long Beach. This data set contains fourteen attributes commonly identified in heart disease such as age, sex, cholesterol, and more. These are important factors in being able to predict heart diseases in patients of all ages. This project is made specifically to answer the question: \"Can heart disease be diagnosed accurately by select medical attributes?\" By resolving this query, the study seeks to contribute  to the predictive diagnostics in cardiology, ultimately aiding in the reduction of CAD prevalence."
   ]
  }
 ],
 "metadata": {
  "kernelspec": {
   "display_name": "R",
   "language": "R",
   "name": "ir"
  },
  "language_info": {
   "codemirror_mode": "r",
   "file_extension": ".r",
   "mimetype": "text/x-r-source",
   "name": "R",
   "pygments_lexer": "r",
   "version": "4.3.1"
  }
 },
 "nbformat": 4,
 "nbformat_minor": 5
}
